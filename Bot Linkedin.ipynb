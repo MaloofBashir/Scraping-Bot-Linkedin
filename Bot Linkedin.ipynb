{
 "cells": [
  {
   "cell_type": "code",
   "execution_count": null,
   "metadata": {},
   "outputs": [],
   "source": [
    "from bs4 import BeautifulSoup\n",
    "from selenium import webdriver\n",
    "from time import sleep\n",
    "from selenium.webdriver.common.keys import Keys\n",
    "import pandas as pd\n",
    "import csv \n",
    "import sys\n",
    "import re\n",
    "import time"
   ]
  },
  {
   "cell_type": "code",
   "execution_count": null,
   "metadata": {},
   "outputs": [],
   "source": [
    "Filter1='site:Linkedin.com \"Adobe\" AND \"Bangalore\" AND \"@gmail.com\"'\n",
    "username='maloofbashir70@gmail.com'\n",
    "password='maloof54321'\n",
    "path='A:\\Chrome Driver\\chromedriver.exe'\n",
    "browser=webdriver.Chrome(path)"
   ]
  },
  {
   "cell_type": "code",
   "execution_count": null,
   "metadata": {},
   "outputs": [],
   "source": [
    "def finding_links(page_source):\n",
    "    count=0\n",
    "    pages=int(input(\"Enter the number of pages you want to scrap \"))\n",
    "    for i in range(pages):  \n",
    "        if count==0:\n",
    "            count=count+1\n",
    "            google_links=page_source.find_all('div',{'class':'TbwUpd'})\n",
    "            cite_links=[]\n",
    "            for g in google_links:\n",
    "                cite_links.append(g.find('cite'))\n",
    "\n",
    "            for link in cite_links:\n",
    "                link_text=link.text\n",
    "                link_text=link_text.replace(\"›\",\"\")\n",
    "                link_text=link_text.replace(\"  \",\"/in/\")\n",
    "                link_text=link_text.replace(\"in\",\"www\",1)\n",
    "                links.append(link_text)\n",
    "        else:\n",
    "            browser.find_element_by_link_text('Next').click()\n",
    "            google_page=browser.page_source\n",
    "            page_source=BeautifulSoup(google_page,'lxml')\n",
    "            google_links=page_source.find_all('div',{'class':'TbwUpd'})\n",
    "            cite_links=[]\n",
    "            for g in google_links:\n",
    "                cite_links.append(g.find('cite'))\n",
    "\n",
    "            for link in cite_links:\n",
    "                link_text=link.text\n",
    "                link_text=link_text.replace(\"›\",\"\")\n",
    "                link_text=link_text.replace(\"  \",\"/in/\")\n",
    "                link_text=link_text.replace(\"in\",\"www\",1)\n",
    "                links.append(link_text)\n"
   ]
  },
  {
   "cell_type": "code",
   "execution_count": null,
   "metadata": {},
   "outputs": [],
   "source": [
    "\n",
    "def scrape_pages(link_page):\n",
    "    data=[]\n",
    "    try:\n",
    "        browser.get(link_page)\n",
    "        src=browser.page_source\n",
    "        soup=BeautifulSoup(src,'lxml')\n",
    "        #Find Full Name\n",
    "        try:\n",
    "            name=soup.find('h1',{'class':'text-heading-xlarge inline t-24 v-align-middle break-words'}).text\n",
    "            data.append(name)\n",
    "        except:\n",
    "            data.append(\"not found\")\n",
    "            \n",
    "        #Now we will find the bio of the profiles\n",
    "        try:\n",
    "            bio=soup.find('div',{'class':'text-body-medium break-words'}).text\n",
    "            bio=bio.replace(\" \",\"\")\n",
    "            bio=bio.replace(\"\\n\",\"\")\n",
    "            data.append(bio)\n",
    "        except:\n",
    "            data.append(\"not found\")\n",
    "            \n",
    "                        #Now we will find locatio of the profile\n",
    "        try:\n",
    "            location=soup.find('span',{'class':'text-body-small inline t-black--light break-words'}).text\n",
    "            location=location.replace(\"\\n\",\"\")\n",
    "            location=location.replace(\"  \",\"\")\n",
    "            data.append(location)\n",
    "        except:\n",
    "            data.append(\"not found\")\n",
    "\n",
    "        #Now we will find education\n",
    "        \n",
    "        try:\n",
    "            edu=soup.find_all('div',{'class':'inline-show-more-text inline-show-more-text--is-collapsed inline-show-more-text--is-collapsed-with-line-clamp inline'})\n",
    "            edu=edu[1]\n",
    "            edu=edu.text\n",
    "            edu=edu.replace('  ',\"\")\n",
    "            edu=edu.replace('\\n',\"\")\n",
    "            data.append(edu)\n",
    "        except:\n",
    "            data.append(\"not found\")\n",
    "            \n",
    "            \n",
    "    except:\n",
    "        print(' the link {} throws error'.format(link_page))\n",
    "        \n",
    "        \n",
    "    whole_data.append(data)\n",
    "    "
   ]
  },
  {
   "cell_type": "code",
   "execution_count": null,
   "metadata": {},
   "outputs": [],
   "source": [
    "def login_and_page_source():\n",
    "    browser.get('https://www.linkedin.com/login')\n",
    "    time.sleep(2)\n",
    "    browser.find_element_by_id('username').send_keys(username)\n",
    "    browser.find_element_by_id('password').send_keys(password)\n",
    "    browser.find_element_by_xpath(\"//button[@type='submit']\").click()\n",
    "    time.sleep(5)\n",
    "    return browser"
   ]
  },
  {
   "cell_type": "code",
   "execution_count": null,
   "metadata": {},
   "outputs": [],
   "source": [
    "def final_scrap():\n",
    "    browser=login_and_page_source()\n",
    "    itetrate_pages(browser)"
   ]
  },
  {
   "cell_type": "code",
   "execution_count": null,
   "metadata": {},
   "outputs": [],
   "source": [
    "def finding_source_page(browser):\n",
    "    google = browser.get(\"https://www.google.com/\")\n",
    "    time.sleep(2)\n",
    "    browser.find_element_by_name('q').send_keys(Filter1)\n",
    "    browser.find_element_by_xpath(\"//div[@class='A8SBwf']/div[3]/center/input[1]\").click()\n",
    "    google_page=browser.page_source\n",
    "    source_page=BeautifulSoup(google_page,'lxml')\n",
    "    return source_page\n",
    "    "
   ]
  },
  {
   "cell_type": "code",
   "execution_count": null,
   "metadata": {},
   "outputs": [],
   "source": [
    "whole_data=[]\n",
    "links=[]"
   ]
  },
  {
   "cell_type": "code",
   "execution_count": null,
   "metadata": {},
   "outputs": [],
   "source": [
    "def run_all():\n",
    "    browser=login_and_page_source()\n",
    "    source_page=finding_source_page(browser)\n",
    "    finding_links(source_page)\n",
    "    for link in links:\n",
    "        scrape_pages(link)\n",
    "    "
   ]
  },
  {
   "cell_type": "code",
   "execution_count": 10,
   "metadata": {},
   "outputs": [
    {
     "name": "stderr",
     "output_type": "stream",
     "text": [
      "<ipython-input-5-49f4d763ae3c>:4: DeprecationWarning: find_element_by_* commands are deprecated. Please use find_element() instead\n",
      "  browser.find_element_by_id('username').send_keys(username)\n",
      "<ipython-input-5-49f4d763ae3c>:5: DeprecationWarning: find_element_by_* commands are deprecated. Please use find_element() instead\n",
      "  browser.find_element_by_id('password').send_keys(password)\n",
      "<ipython-input-5-49f4d763ae3c>:6: DeprecationWarning: find_element_by_* commands are deprecated. Please use find_element() instead\n",
      "  browser.find_element_by_xpath(\"//button[@type='submit']\").click()\n"
     ]
    },
    {
     "name": "stdout",
     "output_type": "stream",
     "text": [
      "Enter the number of pages you want to scrap 7\n"
     ]
    },
    {
     "name": "stderr",
     "output_type": "stream",
     "text": [
      "<ipython-input-3-371ce262ced0>:19: DeprecationWarning: find_element_by_* commands are deprecated. Please use find_element() instead\n",
      "  browser.find_element_by_link_text('Next').click()\n"
     ]
    },
    {
     "name": "stdout",
     "output_type": "stream",
     "text": [
      " the link https://www.lwwwkedin.com/in/... throws error\n",
      " the link https://www.lwwwkedin.com/in/... throws error\n",
      " the link https://www.lwwwkedin.com/in/chiragarora17 throws error\n",
      " the link https://www.lwwwkedin.com/in/chiragarora17 throws error\n",
      " the link https://www.lwwwkedin.com/in/... throws error\n",
      " the link https://www.lwwwkedin.com/in/... throws error\n",
      " the link https://www.lwwwkedin.com/in/nikkr throws error\n",
      " the link https://www.lwwwkedin.com/in/nikkr throws error\n",
      " the link https://www.lwwwkedin.com/in/abhinavmathu throws error\n",
      " the link https://www.lwwwkedin.com/in/abhinavmathu throws error\n",
      " the link https://www.lwwwkedin.com/in/trisha-mittal throws error\n",
      " the link https://www.lwwwkedin.com/in/trisha-mittal throws error\n",
      " the link https://www.lwwwkedin.com/in/... throws error\n",
      " the link https://www.lwwwkedin.com/in/... throws error\n",
      " the link https://www.lwwwkedin.com/in/arjunathreya1 throws error\n",
      " the link https://www.lwwwkedin.com/in/arjunathreya1 throws error\n",
      " the link https://www.lwwwkedin.com/in/guptapraveen2 throws error\n",
      " the link https://www.lwwwkedin.com/in/guptapraveen2 throws error\n",
      " the link https://www.lwwwkedin.com/in/andreahardeman throws error\n",
      " the link https://www.lwwwkedin.com/in/andreahardeman throws error\n",
      " the link https://au.lwwwkedin.com/in/harshil-shah-62044822 throws error\n",
      " the link https://au.lwwwkedin.com/in/harshil-shah-62044822 throws error\n",
      " the link https://www.lwwwkedin.com/in/sheela-lnachar throws error\n",
      " the link https://www.lwwwkedin.com/in/sheela-lnachar throws error\n"
     ]
    }
   ],
   "source": [
    "run_all()"
   ]
  },
  {
   "cell_type": "code",
   "execution_count": 12,
   "metadata": {},
   "outputs": [
    {
     "data": {
      "text/plain": [
       "140"
      ]
     },
     "execution_count": 12,
     "metadata": {},
     "output_type": "execute_result"
    }
   ],
   "source": [
    "len(whole_data)"
   ]
  },
  {
   "cell_type": "code",
   "execution_count": null,
   "metadata": {},
   "outputs": [],
   "source": []
  }
 ],
 "metadata": {
  "kernelspec": {
   "display_name": "Python 3",
   "language": "python",
   "name": "python3"
  },
  "language_info": {
   "codemirror_mode": {
    "name": "ipython",
    "version": 3
   },
   "file_extension": ".py",
   "mimetype": "text/x-python",
   "name": "python",
   "nbconvert_exporter": "python",
   "pygments_lexer": "ipython3",
   "version": "3.8.3"
  }
 },
 "nbformat": 4,
 "nbformat_minor": 4
}
